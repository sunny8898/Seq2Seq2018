{
 "cells": [
  {
   "cell_type": "code",
   "execution_count": 7,
   "metadata": {},
   "outputs": [
    {
     "ename": "ModuleNotFoundError",
     "evalue": "No module named 'tf'",
     "output_type": "error",
     "traceback": [
      "\u001b[0;31m---------------------------------------------------------------------------\u001b[0m",
      "\u001b[0;31mModuleNotFoundError\u001b[0m                       Traceback (most recent call last)",
      "\u001b[0;32m<ipython-input-7-d04f92dfab33>\u001b[0m in \u001b[0;36m<module>\u001b[0;34m()\u001b[0m\n\u001b[1;32m      6\u001b[0m \u001b[0;32mfrom\u001b[0m \u001b[0mtensorflow\u001b[0m\u001b[0;34m.\u001b[0m\u001b[0mpython\u001b[0m\u001b[0;34m.\u001b[0m\u001b[0mops\u001b[0m \u001b[0;32mimport\u001b[0m \u001b[0mtensor_array_ops\u001b[0m\u001b[0;34m\u001b[0m\u001b[0m\n\u001b[1;32m      7\u001b[0m \u001b[0;34m\u001b[0m\u001b[0m\n\u001b[0;32m----> 8\u001b[0;31m \u001b[0;32mfrom\u001b[0m \u001b[0mtf\u001b[0m\u001b[0;34m.\u001b[0m\u001b[0mpython\u001b[0m\u001b[0;34m.\u001b[0m\u001b[0mutil\u001b[0m \u001b[0;32mimport\u001b[0m \u001b[0mnest\u001b[0m\u001b[0;34m\u001b[0m\u001b[0m\n\u001b[0m\u001b[1;32m      9\u001b[0m \u001b[0;34m\u001b[0m\u001b[0m\n\u001b[1;32m     10\u001b[0m \u001b[0;34m\u001b[0m\u001b[0m\n",
      "\u001b[0;31mModuleNotFoundError\u001b[0m: No module named 'tf'"
     ]
    }
   ],
   "source": [
    "import tensorflow as tf\n",
    "import numpy as np\n",
    "from tensorflow.python.ops import array_ops\n",
    "from tensorflow.python.ops import math_ops\n",
    "from tensorflow.python.ops import control_flow_ops\n",
    "from tensorflow.python.ops import tensor_array_ops\n",
    "\n",
    "from tensorflow.python.util import nest\n",
    "\n",
    "\n",
    "def _dynamic_rnn_loop(cell,\n",
    "                      inputs,\n",
    "                      initial_state,\n",
    "                      dtype = None):\n",
    "    \"\"\"\n",
    "    Args:\n",
    "        cell: RNNCell\n",
    "        inputs: [T, B, D]\n",
    "\n",
    "    \"\"\"\n",
    "    state = initial_state \n",
    "\n",
    "    state_size = cell.state_size\n",
    "\n",
    "    inputs_shape = array_ops.shape(inputs)\n",
    "    time_steps = inputs_shape[0]\n",
    "\n",
    "    output_size = cell.output_size\n",
    "\n",
    "    time = tf.constant(0)\n",
    "\n",
    "    \n",
    "    output_ta = tf.TensorArray(dtype = tf.float32, size = time_steps.numpy(),\n",
    "                               element_shape = output_size)\n",
    "\n",
    "    def _time_step(time, output_ta_t, state):\n",
    "        input_t = inputs[time]\n",
    "        output, next_state = cell(input_t, state)\n",
    "        output_ta_t = output_ta_t.write(time, output)\n",
    "        return (time + 1, output_ta_t, new_state)\n",
    "\n",
    "    def _cond(time, output_ta_t, state):\n",
    "        loop_bound = time_steps\n",
    "        return time < loop_bound\n",
    "\n",
    "\n",
    "    _, outputs, final_state = control_flow_ops.while_loop(\n",
    "        cond = _cond,\n",
    "        body = _time_step,\n",
    "        loop_vars = (time, output_ta, state))\n",
    "    \n",
    "    outputs = outputs.stack()\n",
    "\n",
    "    return (outputs, final_state)\n",
    "\n",
    "\n"
   ]
  }
 ],
 "metadata": {
  "kernelspec": {
   "display_name": "Python 3",
   "language": "python",
   "name": "python3"
  },
  "language_info": {
   "codemirror_mode": {
    "name": "ipython",
    "version": 3
   },
   "file_extension": ".py",
   "mimetype": "text/x-python",
   "name": "python",
   "nbconvert_exporter": "python",
   "pygments_lexer": "ipython3",
   "version": "3.6.3"
  }
 },
 "nbformat": 4,
 "nbformat_minor": 2
}
